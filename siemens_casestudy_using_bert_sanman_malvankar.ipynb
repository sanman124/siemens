{
  "nbformat": 4,
  "nbformat_minor": 0,
  "metadata": {
    "kernelspec": {
      "language": "python",
      "display_name": "Python 3",
      "name": "python3"
    },
    "language_info": {
      "name": "python",
      "version": "3.7.10",
      "mimetype": "text/x-python",
      "codemirror_mode": {
        "name": "ipython",
        "version": 3
      },
      "pygments_lexer": "ipython3",
      "nbconvert_exporter": "python",
      "file_extension": ".py"
    },
    "colab": {
      "name": "siemens-casestudy-using-bert-sanman-malvankar.ipynb",
      "provenance": [],
      "collapsed_sections": []
    },
    "accelerator": "GPU"
  },
  "cells": [
    {
      "cell_type": "code",
      "metadata": {
        "_uuid": "8f2839f25d086af736a60e9eeb907d3b93b6e0e5",
        "_cell_guid": "b1076dfc-b9ad-4769-8c92-a6c4dae69d19",
        "execution": {
          "iopub.status.busy": "2021-11-15T02:42:04.405126Z",
          "iopub.execute_input": "2021-11-15T02:42:04.405453Z",
          "iopub.status.idle": "2021-11-15T02:42:43.137467Z",
          "shell.execute_reply.started": "2021-11-15T02:42:04.405369Z",
          "shell.execute_reply": "2021-11-15T02:42:43.136625Z"
        },
        "trusted": true,
        "colab": {
          "base_uri": "https://localhost:8080/"
        },
        "id": "F0YXCIaClaTp",
        "outputId": "e1eb9c8a-1133-4f34-fc76-bf191de94c1a"
      },
      "source": [
        "pip install ktrain"
      ],
      "execution_count": 1,
      "outputs": [
        {
          "output_type": "stream",
          "name": "stdout",
          "text": [
            "Collecting ktrain\n",
            "  Downloading ktrain-0.28.3.tar.gz (25.3 MB)\n",
            "\u001b[K     |████████████████████████████████| 25.3 MB 86 kB/s \n",
            "\u001b[?25hCollecting scikit-learn==0.23.2\n",
            "  Downloading scikit_learn-0.23.2-cp37-cp37m-manylinux1_x86_64.whl (6.8 MB)\n",
            "\u001b[K     |████████████████████████████████| 6.8 MB 32.5 MB/s \n",
            "\u001b[?25hRequirement already satisfied: matplotlib>=3.0.0 in /usr/local/lib/python3.7/dist-packages (from ktrain) (3.2.2)\n",
            "Requirement already satisfied: pandas>=1.0.1 in /usr/local/lib/python3.7/dist-packages (from ktrain) (1.1.5)\n",
            "Requirement already satisfied: fastprogress>=0.1.21 in /usr/local/lib/python3.7/dist-packages (from ktrain) (1.0.0)\n",
            "Requirement already satisfied: requests in /usr/local/lib/python3.7/dist-packages (from ktrain) (2.23.0)\n",
            "Requirement already satisfied: joblib in /usr/local/lib/python3.7/dist-packages (from ktrain) (1.1.0)\n",
            "Requirement already satisfied: packaging in /usr/local/lib/python3.7/dist-packages (from ktrain) (21.2)\n",
            "Collecting langdetect\n",
            "  Downloading langdetect-1.0.9.tar.gz (981 kB)\n",
            "\u001b[K     |████████████████████████████████| 981 kB 30.1 MB/s \n",
            "\u001b[?25hRequirement already satisfied: jieba in /usr/local/lib/python3.7/dist-packages (from ktrain) (0.42.1)\n",
            "Collecting cchardet\n",
            "  Downloading cchardet-2.1.7-cp37-cp37m-manylinux2010_x86_64.whl (263 kB)\n",
            "\u001b[K     |████████████████████████████████| 263 kB 47.1 MB/s \n",
            "\u001b[?25hRequirement already satisfied: chardet in /usr/local/lib/python3.7/dist-packages (from ktrain) (3.0.4)\n",
            "Collecting syntok\n",
            "  Downloading syntok-1.3.1.tar.gz (23 kB)\n",
            "Collecting seqeval==0.0.19\n",
            "  Downloading seqeval-0.0.19.tar.gz (30 kB)\n",
            "Collecting transformers<=4.10.3,>=4.0.0\n",
            "  Downloading transformers-4.10.3-py3-none-any.whl (2.8 MB)\n",
            "\u001b[K     |████████████████████████████████| 2.8 MB 38.9 MB/s \n",
            "\u001b[?25hCollecting sentencepiece\n",
            "  Downloading sentencepiece-0.1.96-cp37-cp37m-manylinux_2_17_x86_64.manylinux2014_x86_64.whl (1.2 MB)\n",
            "\u001b[K     |████████████████████████████████| 1.2 MB 50.0 MB/s \n",
            "\u001b[?25hCollecting keras_bert>=0.86.0\n",
            "  Downloading keras-bert-0.88.0.tar.gz (26 kB)\n",
            "Collecting whoosh\n",
            "  Downloading Whoosh-2.7.4-py2.py3-none-any.whl (468 kB)\n",
            "\u001b[K     |████████████████████████████████| 468 kB 47.1 MB/s \n",
            "\u001b[?25hCollecting threadpoolctl>=2.0.0\n",
            "  Downloading threadpoolctl-3.0.0-py3-none-any.whl (14 kB)\n",
            "Requirement already satisfied: scipy>=0.19.1 in /usr/local/lib/python3.7/dist-packages (from scikit-learn==0.23.2->ktrain) (1.4.1)\n",
            "Requirement already satisfied: numpy>=1.13.3 in /usr/local/lib/python3.7/dist-packages (from scikit-learn==0.23.2->ktrain) (1.19.5)\n",
            "Requirement already satisfied: Keras>=2.2.4 in /usr/local/lib/python3.7/dist-packages (from seqeval==0.0.19->ktrain) (2.7.0)\n",
            "Collecting keras-transformer>=0.39.0\n",
            "  Downloading keras-transformer-0.39.0.tar.gz (11 kB)\n",
            "Collecting keras-pos-embd>=0.12.0\n",
            "  Downloading keras-pos-embd-0.12.0.tar.gz (6.0 kB)\n",
            "Collecting keras-multi-head>=0.28.0\n",
            "  Downloading keras-multi-head-0.28.0.tar.gz (14 kB)\n",
            "Collecting keras-layer-normalization>=0.15.0\n",
            "  Downloading keras-layer-normalization-0.15.0.tar.gz (4.2 kB)\n",
            "Collecting keras-position-wise-feed-forward>=0.7.0\n",
            "  Downloading keras-position-wise-feed-forward-0.7.0.tar.gz (4.5 kB)\n",
            "Collecting keras-embed-sim>=0.9.0\n",
            "  Downloading keras-embed-sim-0.9.0.tar.gz (4.1 kB)\n",
            "Collecting keras-self-attention>=0.50.0\n",
            "  Downloading keras-self-attention-0.50.0.tar.gz (12 kB)\n",
            "Requirement already satisfied: cycler>=0.10 in /usr/local/lib/python3.7/dist-packages (from matplotlib>=3.0.0->ktrain) (0.11.0)\n",
            "Requirement already satisfied: python-dateutil>=2.1 in /usr/local/lib/python3.7/dist-packages (from matplotlib>=3.0.0->ktrain) (2.8.2)\n",
            "Requirement already satisfied: pyparsing!=2.0.4,!=2.1.2,!=2.1.6,>=2.0.1 in /usr/local/lib/python3.7/dist-packages (from matplotlib>=3.0.0->ktrain) (2.4.7)\n",
            "Requirement already satisfied: kiwisolver>=1.0.1 in /usr/local/lib/python3.7/dist-packages (from matplotlib>=3.0.0->ktrain) (1.3.2)\n",
            "Requirement already satisfied: pytz>=2017.2 in /usr/local/lib/python3.7/dist-packages (from pandas>=1.0.1->ktrain) (2018.9)\n",
            "Requirement already satisfied: six>=1.5 in /usr/local/lib/python3.7/dist-packages (from python-dateutil>=2.1->matplotlib>=3.0.0->ktrain) (1.15.0)\n",
            "Collecting sacremoses\n",
            "  Downloading sacremoses-0.0.46-py3-none-any.whl (895 kB)\n",
            "\u001b[K     |████████████████████████████████| 895 kB 50.6 MB/s \n",
            "\u001b[?25hCollecting pyyaml>=5.1\n",
            "  Downloading PyYAML-6.0-cp37-cp37m-manylinux_2_5_x86_64.manylinux1_x86_64.manylinux_2_12_x86_64.manylinux2010_x86_64.whl (596 kB)\n",
            "\u001b[K     |████████████████████████████████| 596 kB 41.1 MB/s \n",
            "\u001b[?25hRequirement already satisfied: regex!=2019.12.17 in /usr/local/lib/python3.7/dist-packages (from transformers<=4.10.3,>=4.0.0->ktrain) (2019.12.20)\n",
            "Requirement already satisfied: tqdm>=4.27 in /usr/local/lib/python3.7/dist-packages (from transformers<=4.10.3,>=4.0.0->ktrain) (4.62.3)\n",
            "Requirement already satisfied: filelock in /usr/local/lib/python3.7/dist-packages (from transformers<=4.10.3,>=4.0.0->ktrain) (3.3.2)\n",
            "Requirement already satisfied: importlib-metadata in /usr/local/lib/python3.7/dist-packages (from transformers<=4.10.3,>=4.0.0->ktrain) (4.8.2)\n",
            "Collecting tokenizers<0.11,>=0.10.1\n",
            "  Downloading tokenizers-0.10.3-cp37-cp37m-manylinux_2_5_x86_64.manylinux1_x86_64.manylinux_2_12_x86_64.manylinux2010_x86_64.whl (3.3 MB)\n",
            "\u001b[K     |████████████████████████████████| 3.3 MB 38.5 MB/s \n",
            "\u001b[?25hCollecting huggingface-hub>=0.0.12\n",
            "  Downloading huggingface_hub-0.1.2-py3-none-any.whl (59 kB)\n",
            "\u001b[K     |████████████████████████████████| 59 kB 7.2 MB/s \n",
            "\u001b[?25hRequirement already satisfied: typing-extensions>=3.7.4.3 in /usr/local/lib/python3.7/dist-packages (from huggingface-hub>=0.0.12->transformers<=4.10.3,>=4.0.0->ktrain) (3.10.0.2)\n",
            "Requirement already satisfied: zipp>=0.5 in /usr/local/lib/python3.7/dist-packages (from importlib-metadata->transformers<=4.10.3,>=4.0.0->ktrain) (3.6.0)\n",
            "Requirement already satisfied: urllib3!=1.25.0,!=1.25.1,<1.26,>=1.21.1 in /usr/local/lib/python3.7/dist-packages (from requests->ktrain) (1.24.3)\n",
            "Requirement already satisfied: idna<3,>=2.5 in /usr/local/lib/python3.7/dist-packages (from requests->ktrain) (2.10)\n",
            "Requirement already satisfied: certifi>=2017.4.17 in /usr/local/lib/python3.7/dist-packages (from requests->ktrain) (2021.10.8)\n",
            "Requirement already satisfied: click in /usr/local/lib/python3.7/dist-packages (from sacremoses->transformers<=4.10.3,>=4.0.0->ktrain) (7.1.2)\n",
            "Building wheels for collected packages: ktrain, seqeval, keras-bert, keras-transformer, keras-embed-sim, keras-layer-normalization, keras-multi-head, keras-pos-embd, keras-position-wise-feed-forward, keras-self-attention, langdetect, syntok\n",
            "  Building wheel for ktrain (setup.py) ... \u001b[?25l\u001b[?25hdone\n",
            "  Created wheel for ktrain: filename=ktrain-0.28.3-py3-none-any.whl size=25292659 sha256=eca41251f5de0f320d61ca36977cd0d00cc20be16405895a2e968b793b7a7088\n",
            "  Stored in directory: /root/.cache/pip/wheels/6a/7e/c3/f46cdfc2b81c54424923b1405d7e670c35cacc11ada9a47b1c\n",
            "  Building wheel for seqeval (setup.py) ... \u001b[?25l\u001b[?25hdone\n",
            "  Created wheel for seqeval: filename=seqeval-0.0.19-py3-none-any.whl size=9929 sha256=23892b9382b9c1fbf1e3ab0a1b4dcb0a8ad454d9b05727738ee03692d28274c1\n",
            "  Stored in directory: /root/.cache/pip/wheels/f5/ac/f1/4e13d7aff05c722d142b7d20a88ad63f9aab11b895411241a4\n",
            "  Building wheel for keras-bert (setup.py) ... \u001b[?25l\u001b[?25hdone\n",
            "  Created wheel for keras-bert: filename=keras_bert-0.88.0-py3-none-any.whl size=34204 sha256=505ff0d35704d8f17c8f18fa758e2f8903a665e233193575c5343a9d14bcfcfb\n",
            "  Stored in directory: /root/.cache/pip/wheels/a2/90/cd/c038f2366929a3a5e3414a303b673e10235e802d871d29a835\n",
            "  Building wheel for keras-transformer (setup.py) ... \u001b[?25l\u001b[?25hdone\n",
            "  Created wheel for keras-transformer: filename=keras_transformer-0.39.0-py3-none-any.whl size=12842 sha256=5a8ee316348943385a0484f10eb5ce8225daf04238e584381c5b4f3f9414fd4c\n",
            "  Stored in directory: /root/.cache/pip/wheels/bc/01/e0/5a1a14bed6726f2ed73f7917d2d2c2d4081d2c88426dea07ce\n",
            "  Building wheel for keras-embed-sim (setup.py) ... \u001b[?25l\u001b[?25hdone\n",
            "  Created wheel for keras-embed-sim: filename=keras_embed_sim-0.9.0-py3-none-any.whl size=4504 sha256=9f64092088f225da1032bb670806c92bf3e6f559517d5692229b228d2c407d62\n",
            "  Stored in directory: /root/.cache/pip/wheels/a8/1e/d2/9bc15513dd2f8b9de3e628b3aa9d2de49e721deef6bbd1497e\n",
            "  Building wheel for keras-layer-normalization (setup.py) ... \u001b[?25l\u001b[?25hdone\n",
            "  Created wheel for keras-layer-normalization: filename=keras_layer_normalization-0.15.0-py3-none-any.whl size=5224 sha256=3032d674ce99f81b051061c5c6b75e06aabe6c380b2ce7a0a7daf0688e2205c3\n",
            "  Stored in directory: /root/.cache/pip/wheels/4d/be/fe/55422f77ac11fe6ddcb471198038de8a26b5a4dd1557883c1e\n",
            "  Building wheel for keras-multi-head (setup.py) ... \u001b[?25l\u001b[?25hdone\n",
            "  Created wheel for keras-multi-head: filename=keras_multi_head-0.28.0-py3-none-any.whl size=15559 sha256=f28c2b474855658eba22153b9d6aec8ff21fc4e2153b15005dddabbaaf235a0b\n",
            "  Stored in directory: /root/.cache/pip/wheels/79/4a/ea/9503ab5a02201dfb8635ba2cc8f30844661623c684a5b44472\n",
            "  Building wheel for keras-pos-embd (setup.py) ... \u001b[?25l\u001b[?25hdone\n",
            "  Created wheel for keras-pos-embd: filename=keras_pos_embd-0.12.0-py3-none-any.whl size=7469 sha256=32e655e439ec13ee8bcce0092ea57a2a9ea2f844a9d2c4b8104eed7309c54c62\n",
            "  Stored in directory: /root/.cache/pip/wheels/77/99/fd/dd98f4876c3ebbef7aab0dbfbd37bca41d7db37d3a28b2cb09\n",
            "  Building wheel for keras-position-wise-feed-forward (setup.py) ... \u001b[?25l\u001b[?25hdone\n",
            "  Created wheel for keras-position-wise-feed-forward: filename=keras_position_wise_feed_forward-0.7.0-py3-none-any.whl size=5541 sha256=b9dcc97cd01d3256964225c57a502fe5e83b52e325cc92cc54e8c80eb79924f2\n",
            "  Stored in directory: /root/.cache/pip/wheels/2d/12/02/1ad455c4f181cda1a4e60c5445855853d5c2ea91f942586a04\n",
            "  Building wheel for keras-self-attention (setup.py) ... \u001b[?25l\u001b[?25hdone\n",
            "  Created wheel for keras-self-attention: filename=keras_self_attention-0.50.0-py3-none-any.whl size=19414 sha256=1fefaf666a1a5a02afdc46abf0cccdeb16b29661f7ae7f74821f1ec65bd2b8be\n",
            "  Stored in directory: /root/.cache/pip/wheels/92/7a/a3/231bef5803298e7ec1815215bc0613239cb1e9c03c57b13c14\n",
            "  Building wheel for langdetect (setup.py) ... \u001b[?25l\u001b[?25hdone\n",
            "  Created wheel for langdetect: filename=langdetect-1.0.9-py3-none-any.whl size=993242 sha256=07f3966d44cd385861f5a7d86eaf37a95001f762fbaac047c9c414285d6956e6\n",
            "  Stored in directory: /root/.cache/pip/wheels/c5/96/8a/f90c59ed25d75e50a8c10a1b1c2d4c402e4dacfa87f3aff36a\n",
            "  Building wheel for syntok (setup.py) ... \u001b[?25l\u001b[?25hdone\n",
            "  Created wheel for syntok: filename=syntok-1.3.1-py3-none-any.whl size=20917 sha256=eb43c63a03f9ea7b9f74753d05e3f0003be4aefb33defb23807e4958759f6d8c\n",
            "  Stored in directory: /root/.cache/pip/wheels/5e/c2/33/e5d7d8f2f8b0c391d76bf82b844c3151bf23a84d75d02b185f\n",
            "Successfully built ktrain seqeval keras-bert keras-transformer keras-embed-sim keras-layer-normalization keras-multi-head keras-pos-embd keras-position-wise-feed-forward keras-self-attention langdetect syntok\n",
            "Installing collected packages: keras-self-attention, pyyaml, keras-position-wise-feed-forward, keras-pos-embd, keras-multi-head, keras-layer-normalization, keras-embed-sim, tokenizers, threadpoolctl, sacremoses, keras-transformer, huggingface-hub, whoosh, transformers, syntok, seqeval, sentencepiece, scikit-learn, langdetect, keras-bert, cchardet, ktrain\n",
            "  Attempting uninstall: pyyaml\n",
            "    Found existing installation: PyYAML 3.13\n",
            "    Uninstalling PyYAML-3.13:\n",
            "      Successfully uninstalled PyYAML-3.13\n",
            "  Attempting uninstall: scikit-learn\n",
            "    Found existing installation: scikit-learn 0.22.2.post1\n",
            "    Uninstalling scikit-learn-0.22.2.post1:\n",
            "      Successfully uninstalled scikit-learn-0.22.2.post1\n",
            "Successfully installed cchardet-2.1.7 huggingface-hub-0.1.2 keras-bert-0.88.0 keras-embed-sim-0.9.0 keras-layer-normalization-0.15.0 keras-multi-head-0.28.0 keras-pos-embd-0.12.0 keras-position-wise-feed-forward-0.7.0 keras-self-attention-0.50.0 keras-transformer-0.39.0 ktrain-0.28.3 langdetect-1.0.9 pyyaml-6.0 sacremoses-0.0.46 scikit-learn-0.23.2 sentencepiece-0.1.96 seqeval-0.0.19 syntok-1.3.1 threadpoolctl-3.0.0 tokenizers-0.10.3 transformers-4.10.3 whoosh-2.7.4\n"
          ]
        }
      ]
    },
    {
      "cell_type": "code",
      "metadata": {
        "execution": {
          "iopub.status.busy": "2021-11-15T02:42:43.139754Z",
          "iopub.execute_input": "2021-11-15T02:42:43.140042Z",
          "iopub.status.idle": "2021-11-15T02:42:54.726095Z",
          "shell.execute_reply.started": "2021-11-15T02:42:43.140003Z",
          "shell.execute_reply": "2021-11-15T02:42:54.725382Z"
        },
        "trusted": true,
        "id": "JB9FFxGblaTr"
      },
      "source": [
        "import numpy as np\n",
        "import os\n",
        "\n",
        "import tensorflow as tf\n",
        "import ktrain\n",
        "from ktrain import text\n",
        "import pandas as pd"
      ],
      "execution_count": 2,
      "outputs": []
    },
    {
      "cell_type": "code",
      "metadata": {
        "execution": {
          "iopub.status.busy": "2021-11-15T02:42:54.727305Z",
          "iopub.execute_input": "2021-11-15T02:42:54.727562Z",
          "iopub.status.idle": "2021-11-15T02:42:54.829037Z",
          "shell.execute_reply.started": "2021-11-15T02:42:54.727511Z",
          "shell.execute_reply": "2021-11-15T02:42:54.828215Z"
        },
        "trusted": true,
        "id": "DpBLEKj9laTs"
      },
      "source": [
        "df = pd.read_csv('articles.csv')"
      ],
      "execution_count": 3,
      "outputs": []
    },
    {
      "cell_type": "code",
      "metadata": {
        "execution": {
          "iopub.status.busy": "2021-11-15T02:42:54.831002Z",
          "iopub.execute_input": "2021-11-15T02:42:54.831907Z",
          "iopub.status.idle": "2021-11-15T02:42:55.242498Z",
          "shell.execute_reply.started": "2021-11-15T02:42:54.831866Z",
          "shell.execute_reply": "2021-11-15T02:42:55.241787Z"
        },
        "trusted": true,
        "colab": {
          "base_uri": "https://localhost:8080/"
        },
        "id": "x7sLZ_hjlaTs",
        "outputId": "d1c5c631-5a82-4b0d-b264-85e2610db015"
      },
      "source": [
        "import nltk\n",
        "nltk.download('stopwords')"
      ],
      "execution_count": 4,
      "outputs": [
        {
          "output_type": "stream",
          "name": "stdout",
          "text": [
            "[nltk_data] Downloading package stopwords to /root/nltk_data...\n",
            "[nltk_data]   Unzipping corpora/stopwords.zip.\n"
          ]
        },
        {
          "output_type": "execute_result",
          "data": {
            "text/plain": [
              "True"
            ]
          },
          "metadata": {},
          "execution_count": 4
        }
      ]
    },
    {
      "cell_type": "code",
      "metadata": {
        "execution": {
          "iopub.status.busy": "2021-11-15T02:42:55.243783Z",
          "iopub.execute_input": "2021-11-15T02:42:55.244469Z",
          "iopub.status.idle": "2021-11-15T02:42:55.250786Z",
          "shell.execute_reply.started": "2021-11-15T02:42:55.244430Z",
          "shell.execute_reply": "2021-11-15T02:42:55.250018Z"
        },
        "trusted": true,
        "id": "MN_bm6H9laTs"
      },
      "source": [
        "from nltk.corpus import stopwords\n",
        "stop = stopwords.words('english')"
      ],
      "execution_count": 5,
      "outputs": []
    },
    {
      "cell_type": "code",
      "metadata": {
        "execution": {
          "iopub.status.busy": "2021-11-15T02:42:55.252257Z",
          "iopub.execute_input": "2021-11-15T02:42:55.253114Z",
          "iopub.status.idle": "2021-11-15T02:42:55.269667Z",
          "shell.execute_reply.started": "2021-11-15T02:42:55.253076Z",
          "shell.execute_reply": "2021-11-15T02:42:55.268969Z"
        },
        "trusted": true,
        "colab": {
          "base_uri": "https://localhost:8080/",
          "height": 204
        },
        "id": "QJ9oagMslaTt",
        "outputId": "4e901304-9427-4e9b-9e43-d9d43f3c8f80"
      },
      "source": [
        "df.head()"
      ],
      "execution_count": 6,
      "outputs": [
        {
          "output_type": "execute_result",
          "data": {
            "text/html": [
              "<div>\n",
              "<style scoped>\n",
              "    .dataframe tbody tr th:only-of-type {\n",
              "        vertical-align: middle;\n",
              "    }\n",
              "\n",
              "    .dataframe tbody tr th {\n",
              "        vertical-align: top;\n",
              "    }\n",
              "\n",
              "    .dataframe thead th {\n",
              "        text-align: right;\n",
              "    }\n",
              "</style>\n",
              "<table border=\"1\" class=\"dataframe\">\n",
              "  <thead>\n",
              "    <tr style=\"text-align: right;\">\n",
              "      <th></th>\n",
              "      <th>ArticleId</th>\n",
              "      <th>Text</th>\n",
              "      <th>Category</th>\n",
              "    </tr>\n",
              "  </thead>\n",
              "  <tbody>\n",
              "    <tr>\n",
              "      <th>0</th>\n",
              "      <td>1833</td>\n",
              "      <td>worldcom ex-boss launches defence lawyers defe...</td>\n",
              "      <td>business</td>\n",
              "    </tr>\n",
              "    <tr>\n",
              "      <th>1</th>\n",
              "      <td>154</td>\n",
              "      <td>german business confidence slides german busin...</td>\n",
              "      <td>business</td>\n",
              "    </tr>\n",
              "    <tr>\n",
              "      <th>2</th>\n",
              "      <td>1101</td>\n",
              "      <td>bbc poll indicates economic gloom citizens in ...</td>\n",
              "      <td>business</td>\n",
              "    </tr>\n",
              "    <tr>\n",
              "      <th>3</th>\n",
              "      <td>1976</td>\n",
              "      <td>lifestyle  governs mobile choice  faster  bett...</td>\n",
              "      <td>tech</td>\n",
              "    </tr>\n",
              "    <tr>\n",
              "      <th>4</th>\n",
              "      <td>917</td>\n",
              "      <td>enron bosses in $168m payout eighteen former e...</td>\n",
              "      <td>business</td>\n",
              "    </tr>\n",
              "  </tbody>\n",
              "</table>\n",
              "</div>"
            ],
            "text/plain": [
              "   ArticleId                                               Text  Category\n",
              "0       1833  worldcom ex-boss launches defence lawyers defe...  business\n",
              "1        154  german business confidence slides german busin...  business\n",
              "2       1101  bbc poll indicates economic gloom citizens in ...  business\n",
              "3       1976  lifestyle  governs mobile choice  faster  bett...      tech\n",
              "4        917  enron bosses in $168m payout eighteen former e...  business"
            ]
          },
          "metadata": {},
          "execution_count": 6
        }
      ]
    },
    {
      "cell_type": "code",
      "metadata": {
        "execution": {
          "iopub.status.busy": "2021-11-15T02:42:55.270704Z",
          "iopub.execute_input": "2021-11-15T02:42:55.271089Z",
          "iopub.status.idle": "2021-11-15T02:42:56.781217Z",
          "shell.execute_reply.started": "2021-11-15T02:42:55.271053Z",
          "shell.execute_reply": "2021-11-15T02:42:56.780498Z"
        },
        "trusted": true,
        "id": "j0QVJCsmlaTt"
      },
      "source": [
        "df['Text'] = df['Text'].astype('str')\n",
        "df['without_stopwords'] = df['Text'].apply(lambda x: ' '.join([word for word in x.split() if word not in (stop)]))"
      ],
      "execution_count": 7,
      "outputs": []
    },
    {
      "cell_type": "code",
      "metadata": {
        "execution": {
          "iopub.status.busy": "2021-11-15T02:42:56.785758Z",
          "iopub.execute_input": "2021-11-15T02:42:56.787922Z",
          "iopub.status.idle": "2021-11-15T02:42:56.802241Z",
          "shell.execute_reply.started": "2021-11-15T02:42:56.787878Z",
          "shell.execute_reply": "2021-11-15T02:42:56.801600Z"
        },
        "trusted": true,
        "colab": {
          "base_uri": "https://localhost:8080/"
        },
        "id": "Nr7Ly89RlaTt",
        "outputId": "85624d85-810a-4b89-a3db-43ab6688fd70"
      },
      "source": [
        "df.shape[0]*0.8"
      ],
      "execution_count": 8,
      "outputs": [
        {
          "output_type": "execute_result",
          "data": {
            "text/plain": [
              "1192.0"
            ]
          },
          "metadata": {},
          "execution_count": 8
        }
      ]
    },
    {
      "cell_type": "code",
      "metadata": {
        "execution": {
          "iopub.status.busy": "2021-11-15T02:42:56.803407Z",
          "iopub.execute_input": "2021-11-15T02:42:56.803904Z",
          "iopub.status.idle": "2021-11-15T02:42:56.819074Z",
          "shell.execute_reply.started": "2021-11-15T02:42:56.803866Z",
          "shell.execute_reply": "2021-11-15T02:42:56.818487Z"
        },
        "trusted": true,
        "id": "Lnz0p2LulaTu"
      },
      "source": [
        "data = df.sample(n = 1192, random_state = 2)"
      ],
      "execution_count": 9,
      "outputs": []
    },
    {
      "cell_type": "code",
      "metadata": {
        "execution": {
          "iopub.status.busy": "2021-11-15T02:42:56.821515Z",
          "iopub.execute_input": "2021-11-15T02:42:56.821914Z",
          "iopub.status.idle": "2021-11-15T02:42:56.834966Z",
          "shell.execute_reply.started": "2021-11-15T02:42:56.821877Z",
          "shell.execute_reply": "2021-11-15T02:42:56.830595Z"
        },
        "trusted": true,
        "colab": {
          "base_uri": "https://localhost:8080/"
        },
        "id": "FPyZXi6claTu",
        "outputId": "9104d122-af0b-4d8c-e84c-6661fadbce2d"
      },
      "source": [
        "data['Category'].unique()"
      ],
      "execution_count": 10,
      "outputs": [
        {
          "output_type": "execute_result",
          "data": {
            "text/plain": [
              "array(['business', 'politics', 'tech', 'sport', 'entertainment'],\n",
              "      dtype=object)"
            ]
          },
          "metadata": {},
          "execution_count": 10
        }
      ]
    },
    {
      "cell_type": "code",
      "metadata": {
        "execution": {
          "iopub.status.busy": "2021-11-15T02:42:56.837812Z",
          "iopub.execute_input": "2021-11-15T02:42:56.838255Z",
          "iopub.status.idle": "2021-11-15T02:42:56.847967Z",
          "shell.execute_reply.started": "2021-11-15T02:42:56.838221Z",
          "shell.execute_reply": "2021-11-15T02:42:56.845923Z"
        },
        "trusted": true,
        "id": "YwUps6M0laTv"
      },
      "source": [
        "df_test = df[['without_stopwords','Category']]"
      ],
      "execution_count": 11,
      "outputs": []
    },
    {
      "cell_type": "code",
      "metadata": {
        "execution": {
          "iopub.status.busy": "2021-11-15T02:42:56.849278Z",
          "iopub.execute_input": "2021-11-15T02:42:56.849724Z",
          "iopub.status.idle": "2021-11-15T02:42:56.860744Z",
          "shell.execute_reply.started": "2021-11-15T02:42:56.849691Z",
          "shell.execute_reply": "2021-11-15T02:42:56.859916Z"
        },
        "trusted": true,
        "id": "2HhHqBuElaTw"
      },
      "source": [
        "df_test = df_test[~df_test.without_stopwords.isin(data.without_stopwords)]"
      ],
      "execution_count": 12,
      "outputs": []
    },
    {
      "cell_type": "code",
      "metadata": {
        "execution": {
          "iopub.status.busy": "2021-11-15T02:42:56.861747Z",
          "iopub.execute_input": "2021-11-15T02:42:56.862085Z",
          "iopub.status.idle": "2021-11-15T02:42:56.866971Z",
          "shell.execute_reply.started": "2021-11-15T02:42:56.862054Z",
          "shell.execute_reply": "2021-11-15T02:42:56.866306Z"
        },
        "trusted": true,
        "colab": {
          "base_uri": "https://localhost:8080/"
        },
        "id": "PJCbJ7HSlaTw",
        "outputId": "ef4e0d46-25ac-4981-a4bf-efc1817730ab"
      },
      "source": [
        "df_test.shape"
      ],
      "execution_count": 13,
      "outputs": [
        {
          "output_type": "execute_result",
          "data": {
            "text/plain": [
              "(279, 2)"
            ]
          },
          "metadata": {},
          "execution_count": 13
        }
      ]
    },
    {
      "cell_type": "code",
      "metadata": {
        "execution": {
          "iopub.status.busy": "2021-11-15T02:42:56.868203Z",
          "iopub.execute_input": "2021-11-15T02:42:56.868742Z",
          "iopub.status.idle": "2021-11-15T02:43:12.679938Z",
          "shell.execute_reply.started": "2021-11-15T02:42:56.868707Z",
          "shell.execute_reply": "2021-11-15T02:43:12.679286Z"
        },
        "trusted": true,
        "colab": {
          "base_uri": "https://localhost:8080/",
          "height": 510
        },
        "id": "MQqzAfJdlaTx",
        "outputId": "5150660b-ab5b-4a84-ddf7-60846b37f825"
      },
      "source": [
        "(X_train,y_train),(X_test,y_test),preproc = text.texts_from_df(train_df=data, text_column = 'without_stopwords',\n",
        "                                                               label_columns = ['Category'],\n",
        "                                                               val_df = df_test,\n",
        "                                                               maxlen = 500,\n",
        "                                                               preprocess_mode = 'bert')"
      ],
      "execution_count": 14,
      "outputs": [
        {
          "output_type": "stream",
          "name": "stdout",
          "text": [
            "['business', 'entertainment', 'politics', 'sport', 'tech']\n",
            "      business  entertainment  politics  sport  tech\n",
            "1283       1.0            0.0       0.0    0.0   0.0\n",
            "354        0.0            0.0       1.0    0.0   0.0\n",
            "1048       0.0            0.0       1.0    0.0   0.0\n",
            "311        1.0            0.0       0.0    0.0   0.0\n",
            "68         0.0            0.0       0.0    0.0   1.0\n",
            "['business', 'entertainment', 'politics', 'sport', 'tech']\n",
            "    business  entertainment  politics  sport  tech\n",
            "8        1.0            0.0       0.0    0.0   0.0\n",
            "9        0.0            1.0       0.0    0.0   0.0\n",
            "19       0.0            0.0       0.0    0.0   1.0\n",
            "31       0.0            1.0       0.0    0.0   0.0\n",
            "34       0.0            0.0       0.0    1.0   0.0\n",
            "downloading pretrained BERT model (uncased_L-12_H-768_A-12.zip)...\n",
            "[██████████████████████████████████████████████████]\n",
            "extracting pretrained BERT model...\n",
            "done.\n",
            "\n",
            "cleanup downloaded zip...\n",
            "done.\n",
            "\n",
            "preprocessing train...\n",
            "language: en\n"
          ]
        },
        {
          "output_type": "display_data",
          "data": {
            "text/html": [
              "done."
            ],
            "text/plain": [
              "<IPython.core.display.HTML object>"
            ]
          },
          "metadata": {}
        },
        {
          "output_type": "stream",
          "name": "stdout",
          "text": [
            "Is Multi-Label? False\n",
            "preprocessing test...\n",
            "language: en\n"
          ]
        },
        {
          "output_type": "display_data",
          "data": {
            "text/html": [
              "done."
            ],
            "text/plain": [
              "<IPython.core.display.HTML object>"
            ]
          },
          "metadata": {}
        }
      ]
    },
    {
      "cell_type": "code",
      "metadata": {
        "execution": {
          "iopub.status.busy": "2021-11-15T02:43:12.681114Z",
          "iopub.execute_input": "2021-11-15T02:43:12.681517Z",
          "iopub.status.idle": "2021-11-15T02:43:25.558582Z",
          "shell.execute_reply.started": "2021-11-15T02:43:12.681476Z",
          "shell.execute_reply": "2021-11-15T02:43:25.557817Z"
        },
        "trusted": true,
        "colab": {
          "base_uri": "https://localhost:8080/"
        },
        "id": "igs1dra6laTx",
        "outputId": "3cc259b4-179d-4eda-8e40-adbbeb862961"
      },
      "source": [
        "model = text.text_classifier(name = 'bert',\n",
        "                             train_data = (X_train,y_train),\n",
        "                             preproc = preproc)"
      ],
      "execution_count": 15,
      "outputs": [
        {
          "output_type": "stream",
          "name": "stdout",
          "text": [
            "Is Multi-Label? False\n",
            "maxlen is 500\n",
            "done.\n"
          ]
        }
      ]
    },
    {
      "cell_type": "code",
      "metadata": {
        "execution": {
          "iopub.status.busy": "2021-11-15T02:43:25.559926Z",
          "iopub.execute_input": "2021-11-15T02:43:25.560338Z",
          "iopub.status.idle": "2021-11-15T02:43:26.621727Z",
          "shell.execute_reply.started": "2021-11-15T02:43:25.560298Z",
          "shell.execute_reply": "2021-11-15T02:43:26.620975Z"
        },
        "trusted": true,
        "id": "lBbCDrtllaTy"
      },
      "source": [
        "learner = ktrain.get_learner(model = model,\n",
        "                             train_data= (X_train,y_train),\n",
        "                             val_data = (X_test,y_test),\n",
        "                            batch_size = 6)"
      ],
      "execution_count": 16,
      "outputs": []
    },
    {
      "cell_type": "code",
      "metadata": {
        "execution": {
          "iopub.status.busy": "2021-11-15T02:43:26.623016Z",
          "iopub.execute_input": "2021-11-15T02:43:26.623251Z",
          "iopub.status.idle": "2021-11-15T02:48:56.493139Z",
          "shell.execute_reply.started": "2021-11-15T02:43:26.623219Z",
          "shell.execute_reply": "2021-11-15T02:48:56.492405Z"
        },
        "trusted": true,
        "colab": {
          "base_uri": "https://localhost:8080/"
        },
        "id": "bf-t3XuxlaTz",
        "outputId": "a5552f82-fba6-4f67-d7b3-41d62cbfe5fd"
      },
      "source": [
        "learner.fit_onecycle(lr = 2e-5,\n",
        "                     epochs = 3)"
      ],
      "execution_count": 17,
      "outputs": [
        {
          "output_type": "stream",
          "name": "stdout",
          "text": [
            "\n",
            "\n",
            "begin training using onecycle policy with max lr of 2e-05...\n",
            "Epoch 1/3\n",
            "199/199 [==============================] - 374s 2s/step - loss: 0.6734 - accuracy: 0.7861 - val_loss: 0.2108 - val_accuracy: 0.9355\n",
            "Epoch 2/3\n",
            "199/199 [==============================] - 343s 2s/step - loss: 0.1160 - accuracy: 0.9690 - val_loss: 0.0581 - val_accuracy: 0.9821\n",
            "Epoch 3/3\n",
            "199/199 [==============================] - 343s 2s/step - loss: 0.0350 - accuracy: 0.9933 - val_loss: 0.0551 - val_accuracy: 0.9857\n"
          ]
        },
        {
          "output_type": "execute_result",
          "data": {
            "text/plain": [
              "<keras.callbacks.History at 0x7f041189d2d0>"
            ]
          },
          "metadata": {},
          "execution_count": 17
        }
      ]
    },
    {
      "cell_type": "code",
      "metadata": {
        "execution": {
          "iopub.status.busy": "2021-11-15T02:53:34.166330Z",
          "iopub.execute_input": "2021-11-15T02:53:34.166962Z",
          "iopub.status.idle": "2021-11-15T02:53:37.153217Z",
          "shell.execute_reply.started": "2021-11-15T02:53:34.166917Z",
          "shell.execute_reply": "2021-11-15T02:53:37.152332Z"
        },
        "trusted": true,
        "colab": {
          "base_uri": "https://localhost:8080/"
        },
        "id": "QqKcV8PTlaTz",
        "outputId": "ac7a1851-9484-4acd-e588-c048c6b2554b"
      },
      "source": [
        "predictor = ktrain.get_predictor(learner.model, preproc)\n",
        "predictor.save('email_classifier')\n",
        "print('MODEL SAVED')"
      ],
      "execution_count": 18,
      "outputs": [
        {
          "output_type": "stream",
          "name": "stderr",
          "text": [
            "/usr/local/lib/python3.7/dist-packages/keras/engine/functional.py:1410: CustomMaskWarning: Custom mask layers require a config and must override get_config. When loading, the custom mask layer must be passed to the custom_objects argument.\n",
            "  layer_config = serialize_layer_fn(layer)\n"
          ]
        },
        {
          "output_type": "stream",
          "name": "stdout",
          "text": [
            "MODEL SAVED\n"
          ]
        }
      ]
    },
    {
      "cell_type": "code",
      "metadata": {
        "execution": {
          "iopub.status.busy": "2021-11-15T02:58:17.534385Z",
          "iopub.execute_input": "2021-11-15T02:58:17.534978Z",
          "iopub.status.idle": "2021-11-15T02:59:05.726910Z",
          "shell.execute_reply.started": "2021-11-15T02:58:17.534937Z",
          "shell.execute_reply": "2021-11-15T02:59:05.726147Z"
        },
        "trusted": true,
        "id": "5LxSbtyElaTz"
      },
      "source": [
        "df_test['without_stopwords'] = df_test['without_stopwords'].astype('str')\n",
        "df_test['predicted_class'] = [predictor.predict(x) for x in df_test['without_stopwords']]\n",
        "df_test['predicted_prob'] = [predictor.predict(x,return_proba = 'True') for x in df_test['without_stopwords']]"
      ],
      "execution_count": 19,
      "outputs": []
    },
    {
      "cell_type": "code",
      "metadata": {
        "execution": {
          "iopub.status.busy": "2021-11-15T02:59:54.947068Z",
          "iopub.execute_input": "2021-11-15T02:59:54.947344Z",
          "iopub.status.idle": "2021-11-15T02:59:54.966594Z",
          "shell.execute_reply.started": "2021-11-15T02:59:54.947314Z",
          "shell.execute_reply": "2021-11-15T02:59:54.965837Z"
        },
        "trusted": true,
        "colab": {
          "base_uri": "https://localhost:8080/",
          "height": 589
        },
        "id": "NRODbTGzlaT0",
        "outputId": "598a8002-0b5d-4463-c3dc-4f1efd1e7c88"
      },
      "source": [
        "df_test"
      ],
      "execution_count": 20,
      "outputs": [
        {
          "output_type": "execute_result",
          "data": {
            "text/html": [
              "<div>\n",
              "<style scoped>\n",
              "    .dataframe tbody tr th:only-of-type {\n",
              "        vertical-align: middle;\n",
              "    }\n",
              "\n",
              "    .dataframe tbody tr th {\n",
              "        vertical-align: top;\n",
              "    }\n",
              "\n",
              "    .dataframe thead th {\n",
              "        text-align: right;\n",
              "    }\n",
              "</style>\n",
              "<table border=\"1\" class=\"dataframe\">\n",
              "  <thead>\n",
              "    <tr style=\"text-align: right;\">\n",
              "      <th></th>\n",
              "      <th>without_stopwords</th>\n",
              "      <th>Category</th>\n",
              "      <th>predicted_class</th>\n",
              "      <th>predicted_prob</th>\n",
              "    </tr>\n",
              "  </thead>\n",
              "  <tbody>\n",
              "    <tr>\n",
              "      <th>8</th>\n",
              "      <td>car giant hit mercedes slump slump profitabili...</td>\n",
              "      <td>business</td>\n",
              "      <td>business</td>\n",
              "      <td>[0.99369013, 0.0014712806, 0.001118074, 0.0009...</td>\n",
              "    </tr>\n",
              "    <tr>\n",
              "      <th>9</th>\n",
              "      <td>fockers fuel festive film chart comedy meet fo...</td>\n",
              "      <td>entertainment</td>\n",
              "      <td>entertainment</td>\n",
              "      <td>[0.0014582014, 0.9942416, 0.0013036052, 0.0019...</td>\n",
              "    </tr>\n",
              "    <tr>\n",
              "      <th>19</th>\n",
              "      <td>moving mobile improves golf swing mobile phone...</td>\n",
              "      <td>tech</td>\n",
              "      <td>tech</td>\n",
              "      <td>[0.0032700482, 0.0012701568, 0.00087362144, 0....</td>\n",
              "    </tr>\n",
              "    <tr>\n",
              "      <th>31</th>\n",
              "      <td>rapper snoop dogg sued rape us rapper snoop do...</td>\n",
              "      <td>entertainment</td>\n",
              "      <td>entertainment</td>\n",
              "      <td>[0.0011493665, 0.9890416, 0.00078568887, 0.003...</td>\n",
              "    </tr>\n",
              "    <tr>\n",
              "      <th>34</th>\n",
              "      <td>philippoussis doubt open bid mark philippoussi...</td>\n",
              "      <td>sport</td>\n",
              "      <td>sport</td>\n",
              "      <td>[0.0011659046, 0.0012375761, 0.0003973996, 0.9...</td>\n",
              "    </tr>\n",
              "    <tr>\n",
              "      <th>...</th>\n",
              "      <td>...</td>\n",
              "      <td>...</td>\n",
              "      <td>...</td>\n",
              "      <td>...</td>\n",
              "    </tr>\n",
              "    <tr>\n",
              "      <th>1473</th>\n",
              "      <td>dallaglio eyeing lions tour place former engla...</td>\n",
              "      <td>sport</td>\n",
              "      <td>sport</td>\n",
              "      <td>[0.0009952108, 0.0036784231, 0.0015544826, 0.9...</td>\n",
              "    </tr>\n",
              "    <tr>\n",
              "      <th>1477</th>\n",
              "      <td>web logs aid disaster recovery vivid descripti...</td>\n",
              "      <td>tech</td>\n",
              "      <td>tech</td>\n",
              "      <td>[0.003435477, 0.0019285942, 0.0014837213, 0.00...</td>\n",
              "    </tr>\n",
              "    <tr>\n",
              "      <th>1479</th>\n",
              "      <td>high fuel costs hit us airlines two largest ai...</td>\n",
              "      <td>business</td>\n",
              "      <td>business</td>\n",
              "      <td>[0.99444616, 0.0014354686, 0.0010281274, 0.001...</td>\n",
              "    </tr>\n",
              "    <tr>\n",
              "      <th>1484</th>\n",
              "      <td>hyundai build new india plant south korea hyun...</td>\n",
              "      <td>business</td>\n",
              "      <td>business</td>\n",
              "      <td>[0.9916459, 0.001834347, 0.0015139946, 0.00080...</td>\n",
              "    </tr>\n",
              "    <tr>\n",
              "      <th>1486</th>\n",
              "      <td>dj double act revamp chart show dj duo jk joel...</td>\n",
              "      <td>entertainment</td>\n",
              "      <td>entertainment</td>\n",
              "      <td>[0.00027287114, 0.99451596, 0.001107641, 0.000...</td>\n",
              "    </tr>\n",
              "  </tbody>\n",
              "</table>\n",
              "<p>279 rows × 4 columns</p>\n",
              "</div>"
            ],
            "text/plain": [
              "                                      without_stopwords  ...                                     predicted_prob\n",
              "8     car giant hit mercedes slump slump profitabili...  ...  [0.99369013, 0.0014712806, 0.001118074, 0.0009...\n",
              "9     fockers fuel festive film chart comedy meet fo...  ...  [0.0014582014, 0.9942416, 0.0013036052, 0.0019...\n",
              "19    moving mobile improves golf swing mobile phone...  ...  [0.0032700482, 0.0012701568, 0.00087362144, 0....\n",
              "31    rapper snoop dogg sued rape us rapper snoop do...  ...  [0.0011493665, 0.9890416, 0.00078568887, 0.003...\n",
              "34    philippoussis doubt open bid mark philippoussi...  ...  [0.0011659046, 0.0012375761, 0.0003973996, 0.9...\n",
              "...                                                 ...  ...                                                ...\n",
              "1473  dallaglio eyeing lions tour place former engla...  ...  [0.0009952108, 0.0036784231, 0.0015544826, 0.9...\n",
              "1477  web logs aid disaster recovery vivid descripti...  ...  [0.003435477, 0.0019285942, 0.0014837213, 0.00...\n",
              "1479  high fuel costs hit us airlines two largest ai...  ...  [0.99444616, 0.0014354686, 0.0010281274, 0.001...\n",
              "1484  hyundai build new india plant south korea hyun...  ...  [0.9916459, 0.001834347, 0.0015139946, 0.00080...\n",
              "1486  dj double act revamp chart show dj duo jk joel...  ...  [0.00027287114, 0.99451596, 0.001107641, 0.000...\n",
              "\n",
              "[279 rows x 4 columns]"
            ]
          },
          "metadata": {},
          "execution_count": 20
        }
      ]
    },
    {
      "cell_type": "code",
      "metadata": {
        "id": "jeowXy1plaT1"
      },
      "source": [
        ""
      ],
      "execution_count": null,
      "outputs": []
    }
  ]
}
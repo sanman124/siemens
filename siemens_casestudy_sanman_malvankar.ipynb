{
  "nbformat": 4,
  "nbformat_minor": 0,
  "metadata": {
    "colab": {
      "name": "siemens_casestudy_sanman_malvankar.ipynb",
      "provenance": [],
      "collapsed_sections": []
    },
    "kernelspec": {
      "name": "python3",
      "display_name": "Python 3"
    },
    "language_info": {
      "name": "python"
    }
  },
  "cells": [
    {
      "cell_type": "code",
      "metadata": {
        "id": "f4ig0XqXJ_k7"
      },
      "source": [
        "import pandas as pd\n",
        "import numpy as np"
      ],
      "execution_count": 1,
      "outputs": []
    },
    {
      "cell_type": "code",
      "metadata": {
        "id": "PdfDoaOVKWxs"
      },
      "source": [
        "import matplotlib.pyplot as plt\n",
        "import tensorflow as tf\n",
        "import nltk\n",
        "import sklearn\n",
        "\n",
        "\n",
        "from tensorflow import keras\n",
        "from keras.preprocessing.text import text_to_word_sequence\n",
        "from nltk.corpus import stopwords\n",
        "from nltk.stem import PorterStemmer\n",
        "from nltk.stem import WordNetLemmatizer\n",
        "from nltk.corpus import wordnet\n",
        "from sklearn.feature_extraction.text import TfidfVectorizer\n",
        "from sklearn.feature_extraction.text import TfidfTransformer\n",
        "from sklearn.feature_extraction.text import CountVectorizer\n",
        "from sklearn.model_selection import train_test_split\n",
        "from sklearn import svm\n",
        "from sklearn.naive_bayes import MultinomialNB\n",
        "from sklearn.naive_bayes import GaussianNB\n",
        "from sklearn.metrics import roc_auc_score\n",
        "from sklearn.pipeline import Pipeline\n",
        "from sklearn.metrics import classification_report\n",
        "from sklearn.metrics import accuracy_score\n",
        "from sklearn.tree import DecisionTreeClassifier\n",
        "from sklearn.ensemble import RandomForestClassifier\n",
        "from sklearn.neighbors import KNeighborsClassifier"
      ],
      "execution_count": 2,
      "outputs": []
    },
    {
      "cell_type": "code",
      "metadata": {
        "id": "SkaJI7foKuwU"
      },
      "source": [
        "dataset = pd.read_csv('articles.csv')"
      ],
      "execution_count": 3,
      "outputs": []
    },
    {
      "cell_type": "markdown",
      "metadata": {
        "id": "0ycrBZvYyVts"
      },
      "source": [
        "#no null objects in the data"
      ]
    },
    {
      "cell_type": "code",
      "metadata": {
        "colab": {
          "base_uri": "https://localhost:8080/"
        },
        "id": "skf5EaDLs3ff",
        "outputId": "254d1f02-7fa9-4533-b55e-b999dbb1ab63"
      },
      "source": [
        "\n",
        "dataset.info()"
      ],
      "execution_count": 4,
      "outputs": [
        {
          "output_type": "stream",
          "name": "stdout",
          "text": [
            "<class 'pandas.core.frame.DataFrame'>\n",
            "RangeIndex: 1490 entries, 0 to 1489\n",
            "Data columns (total 3 columns):\n",
            " #   Column     Non-Null Count  Dtype \n",
            "---  ------     --------------  ----- \n",
            " 0   ArticleId  1490 non-null   int64 \n",
            " 1   Text       1490 non-null   object\n",
            " 2   Category   1490 non-null   object\n",
            "dtypes: int64(1), object(2)\n",
            "memory usage: 35.0+ KB\n"
          ]
        }
      ]
    },
    {
      "cell_type": "markdown",
      "metadata": {
        "id": "9mCf8Ln2yTOK"
      },
      "source": [
        "#Remove duplicates if any"
      ]
    },
    {
      "cell_type": "code",
      "metadata": {
        "colab": {
          "base_uri": "https://localhost:8080/"
        },
        "id": "L9OMFaMftBZ3",
        "outputId": "33f7b5c5-7259-46fc-9b56-4e3599c4af81"
      },
      "source": [
        "\n",
        "dataset = dataset.drop_duplicates()\n",
        "dataset = dataset.reset_index(drop = True)\n",
        "dataset.info()"
      ],
      "execution_count": 5,
      "outputs": [
        {
          "output_type": "stream",
          "name": "stdout",
          "text": [
            "<class 'pandas.core.frame.DataFrame'>\n",
            "RangeIndex: 1490 entries, 0 to 1489\n",
            "Data columns (total 3 columns):\n",
            " #   Column     Non-Null Count  Dtype \n",
            "---  ------     --------------  ----- \n",
            " 0   ArticleId  1490 non-null   int64 \n",
            " 1   Text       1490 non-null   object\n",
            " 2   Category   1490 non-null   object\n",
            "dtypes: int64(1), object(2)\n",
            "memory usage: 35.0+ KB\n"
          ]
        }
      ]
    },
    {
      "cell_type": "code",
      "metadata": {
        "colab": {
          "base_uri": "https://localhost:8080/",
          "height": 204
        },
        "id": "YwW4r9ZJK5f4",
        "outputId": "5177f26b-f34b-471b-8b7b-5477e175c3c9"
      },
      "source": [
        "dataset.head()"
      ],
      "execution_count": 6,
      "outputs": [
        {
          "output_type": "execute_result",
          "data": {
            "text/html": [
              "<div>\n",
              "<style scoped>\n",
              "    .dataframe tbody tr th:only-of-type {\n",
              "        vertical-align: middle;\n",
              "    }\n",
              "\n",
              "    .dataframe tbody tr th {\n",
              "        vertical-align: top;\n",
              "    }\n",
              "\n",
              "    .dataframe thead th {\n",
              "        text-align: right;\n",
              "    }\n",
              "</style>\n",
              "<table border=\"1\" class=\"dataframe\">\n",
              "  <thead>\n",
              "    <tr style=\"text-align: right;\">\n",
              "      <th></th>\n",
              "      <th>ArticleId</th>\n",
              "      <th>Text</th>\n",
              "      <th>Category</th>\n",
              "    </tr>\n",
              "  </thead>\n",
              "  <tbody>\n",
              "    <tr>\n",
              "      <th>0</th>\n",
              "      <td>1833</td>\n",
              "      <td>worldcom ex-boss launches defence lawyers defe...</td>\n",
              "      <td>business</td>\n",
              "    </tr>\n",
              "    <tr>\n",
              "      <th>1</th>\n",
              "      <td>154</td>\n",
              "      <td>german business confidence slides german busin...</td>\n",
              "      <td>business</td>\n",
              "    </tr>\n",
              "    <tr>\n",
              "      <th>2</th>\n",
              "      <td>1101</td>\n",
              "      <td>bbc poll indicates economic gloom citizens in ...</td>\n",
              "      <td>business</td>\n",
              "    </tr>\n",
              "    <tr>\n",
              "      <th>3</th>\n",
              "      <td>1976</td>\n",
              "      <td>lifestyle  governs mobile choice  faster  bett...</td>\n",
              "      <td>tech</td>\n",
              "    </tr>\n",
              "    <tr>\n",
              "      <th>4</th>\n",
              "      <td>917</td>\n",
              "      <td>enron bosses in $168m payout eighteen former e...</td>\n",
              "      <td>business</td>\n",
              "    </tr>\n",
              "  </tbody>\n",
              "</table>\n",
              "</div>"
            ],
            "text/plain": [
              "   ArticleId                                               Text  Category\n",
              "0       1833  worldcom ex-boss launches defence lawyers defe...  business\n",
              "1        154  german business confidence slides german busin...  business\n",
              "2       1101  bbc poll indicates economic gloom citizens in ...  business\n",
              "3       1976  lifestyle  governs mobile choice  faster  bett...      tech\n",
              "4        917  enron bosses in $168m payout eighteen former e...  business"
            ]
          },
          "metadata": {},
          "execution_count": 6
        }
      ]
    },
    {
      "cell_type": "code",
      "metadata": {
        "colab": {
          "base_uri": "https://localhost:8080/"
        },
        "id": "2rG-I3bZK7Du",
        "outputId": "2d08b77f-31cf-4f2f-96ef-542ca0c0b1d7"
      },
      "source": [
        "dataset['Category'].unique()"
      ],
      "execution_count": 7,
      "outputs": [
        {
          "output_type": "execute_result",
          "data": {
            "text/plain": [
              "array(['business', 'tech', 'politics', 'sport', 'entertainment'],\n",
              "      dtype=object)"
            ]
          },
          "metadata": {},
          "execution_count": 7
        }
      ]
    },
    {
      "cell_type": "markdown",
      "metadata": {
        "id": "rVnJKU_xyMRp"
      },
      "source": [
        "#observe category wise count"
      ]
    },
    {
      "cell_type": "code",
      "metadata": {
        "colab": {
          "base_uri": "https://localhost:8080/",
          "height": 235
        },
        "id": "ydsIuzVbQRs6",
        "outputId": "4303d1c4-c196-48ef-fe97-c04cbb04cd70"
      },
      "source": [
        "\n",
        "dataset.groupby('Category').agg({'Category':'count'})"
      ],
      "execution_count": 8,
      "outputs": [
        {
          "output_type": "execute_result",
          "data": {
            "text/html": [
              "<div>\n",
              "<style scoped>\n",
              "    .dataframe tbody tr th:only-of-type {\n",
              "        vertical-align: middle;\n",
              "    }\n",
              "\n",
              "    .dataframe tbody tr th {\n",
              "        vertical-align: top;\n",
              "    }\n",
              "\n",
              "    .dataframe thead th {\n",
              "        text-align: right;\n",
              "    }\n",
              "</style>\n",
              "<table border=\"1\" class=\"dataframe\">\n",
              "  <thead>\n",
              "    <tr style=\"text-align: right;\">\n",
              "      <th></th>\n",
              "      <th>Category</th>\n",
              "    </tr>\n",
              "    <tr>\n",
              "      <th>Category</th>\n",
              "      <th></th>\n",
              "    </tr>\n",
              "  </thead>\n",
              "  <tbody>\n",
              "    <tr>\n",
              "      <th>business</th>\n",
              "      <td>336</td>\n",
              "    </tr>\n",
              "    <tr>\n",
              "      <th>entertainment</th>\n",
              "      <td>273</td>\n",
              "    </tr>\n",
              "    <tr>\n",
              "      <th>politics</th>\n",
              "      <td>274</td>\n",
              "    </tr>\n",
              "    <tr>\n",
              "      <th>sport</th>\n",
              "      <td>346</td>\n",
              "    </tr>\n",
              "    <tr>\n",
              "      <th>tech</th>\n",
              "      <td>261</td>\n",
              "    </tr>\n",
              "  </tbody>\n",
              "</table>\n",
              "</div>"
            ],
            "text/plain": [
              "               Category\n",
              "Category               \n",
              "business            336\n",
              "entertainment       273\n",
              "politics            274\n",
              "sport               346\n",
              "tech                261"
            ]
          },
          "metadata": {},
          "execution_count": 8
        }
      ]
    },
    {
      "cell_type": "markdown",
      "metadata": {
        "id": "uyGnWgVyyIL9"
      },
      "source": [
        "#check distribution of the data"
      ]
    },
    {
      "cell_type": "code",
      "metadata": {
        "colab": {
          "base_uri": "https://localhost:8080/",
          "height": 358
        },
        "id": "g7v-t9ZOQmoa",
        "outputId": "a73525b6-659c-4903-ebf1-2cab8afb6a02"
      },
      "source": [
        "\n",
        "dataset.groupby('Category').agg({'Category':'count'}).plot.bar(ylim=0)"
      ],
      "execution_count": 9,
      "outputs": [
        {
          "output_type": "execute_result",
          "data": {
            "text/plain": [
              "<matplotlib.axes._subplots.AxesSubplot at 0x7fbf81086710>"
            ]
          },
          "metadata": {},
          "execution_count": 9
        },
        {
          "output_type": "display_data",
          "data": {
            "image/png": "[encoded data removed]",
            "text/plain": [
              "<Figure size 432x288 with 1 Axes>"
            ]
          },
          "metadata": {
            "needs_background": "light"
          }
        }
      ]
    },
    {
      "cell_type": "code",
      "metadata": {
        "colab": {
          "base_uri": "https://localhost:8080/"
        },
        "id": "7Wtos4s8QsRG",
        "outputId": "9058c615-79ec-45d9-f405-7823779cf7aa"
      },
      "source": [
        "text = dataset[\"Text\"] \n",
        "text.head()"
      ],
      "execution_count": 10,
      "outputs": [
        {
          "output_type": "execute_result",
          "data": {
            "text/plain": [
              "0    worldcom ex-boss launches defence lawyers defe...\n",
              "1    german business confidence slides german busin...\n",
              "2    bbc poll indicates economic gloom citizens in ...\n",
              "3    lifestyle  governs mobile choice  faster  bett...\n",
              "4    enron bosses in $168m payout eighteen former e...\n",
              "Name: Text, dtype: object"
            ]
          },
          "metadata": {},
          "execution_count": 10
        }
      ]
    },
    {
      "cell_type": "code",
      "metadata": {
        "colab": {
          "base_uri": "https://localhost:8080/"
        },
        "id": "KegWwHyey7T3",
        "outputId": "802b3a0f-e2a7-4243-a2f8-fb7d7921b829"
      },
      "source": [
        "category = dataset[\"Category\"]\n",
        "category.head()"
      ],
      "execution_count": 11,
      "outputs": [
        {
          "output_type": "execute_result",
          "data": {
            "text/plain": [
              "0    business\n",
              "1    business\n",
              "2    business\n",
              "3        tech\n",
              "4    business\n",
              "Name: Category, dtype: object"
            ]
          },
          "metadata": {},
          "execution_count": 11
        }
      ]
    },
    {
      "cell_type": "code",
      "metadata": {
        "id": "iMXzp1qSy95a"
      },
      "source": [
        "def preprocessDataset(train_text):\n",
        "       \n",
        "    #word tokenization using text-to-word-sequence\n",
        "    train_text= str(train_text)\n",
        "    tokenized_train_set = text_to_word_sequence(train_text,filters='!\"#$%&()*+,-./:;<=>?@[\\\\]^_`{|}~\\t\\n',lower=True,split=\" \")\n",
        "        \n",
        "    #removing of stopwords\n",
        "    stop_words = set(stopwords.words('english'))\n",
        "    stopwordremove = [i for i in tokenized_train_set if not i in stop_words]\n",
        "\n",
        "    stopwordremove_text = ' '.join(stopwordremove)\n",
        "        \n",
        "        \n",
        "    #removing of numbers\n",
        "    numberremove_text = ''.join(c for c in stopwordremove_text if not c.isdigit())\n",
        "       \n",
        "        \n",
        "    #stemming\n",
        "    stemmer= PorterStemmer()\n",
        "\n",
        "    stem_input=nltk.word_tokenize(numberremove_text)\n",
        "    stem_text=' '.join([stemmer.stem(word) for word in stem_input])\n",
        "        \n",
        "        \n",
        "    lemmatizer = WordNetLemmatizer()\n",
        "\n",
        "    def get_wordnet_pos(word):\n",
        "        \"\"\"Map POS tag to first character lemmatize() accepts\"\"\"\n",
        "        tag = nltk.pos_tag([word])[0][1][0].upper()\n",
        "        tag_dict = {\"J\": wordnet.ADJ,\n",
        "                \"N\": wordnet.NOUN,\n",
        "                \"V\": wordnet.VERB,\n",
        "                \"R\": wordnet.ADV}\n",
        "\n",
        "        return tag_dict.get(tag, wordnet.NOUN)\n",
        "\n",
        "    lem_input = nltk.word_tokenize(stem_text)\n",
        "    lem_text= ' '.join([lemmatizer.lemmatize(w, get_wordnet_pos(w)) for w in lem_input])\n",
        "        \n",
        "    return lem_text"
      ],
      "execution_count": 12,
      "outputs": []
    },
    {
      "cell_type": "code",
      "metadata": {
        "colab": {
          "base_uri": "https://localhost:8080/"
        },
        "id": "KuDtTll41Oid",
        "outputId": "b987ec60-d0c2-4f2a-ec48-32606d5c2fae"
      },
      "source": [
        "import nltk\n",
        "nltk.download('stopwords')\n",
        "nltk.download('punkt')\n",
        "nltk.download('averaged_perceptron_tagger')\n",
        "nltk.download('wordnet')\n"
      ],
      "execution_count": 13,
      "outputs": [
        {
          "output_type": "stream",
          "name": "stdout",
          "text": [
            "[nltk_data] Downloading package stopwords to /root/nltk_data...\n",
            "[nltk_data]   Package stopwords is already up-to-date!\n",
            "[nltk_data] Downloading package punkt to /root/nltk_data...\n",
            "[nltk_data]   Package punkt is already up-to-date!\n",
            "[nltk_data] Downloading package averaged_perceptron_tagger to\n",
            "[nltk_data]     /root/nltk_data...\n",
            "[nltk_data]   Package averaged_perceptron_tagger is already up-to-\n",
            "[nltk_data]       date!\n",
            "[nltk_data] Downloading package wordnet to /root/nltk_data...\n",
            "[nltk_data]   Package wordnet is already up-to-date!\n"
          ]
        },
        {
          "output_type": "execute_result",
          "data": {
            "text/plain": [
              "True"
            ]
          },
          "metadata": {},
          "execution_count": 13
        }
      ]
    },
    {
      "cell_type": "code",
      "metadata": {
        "colab": {
          "base_uri": "https://localhost:8080/"
        },
        "id": "QjBnU8UG1DF2",
        "outputId": "b2d868b6-3f6a-4469-dec7-db7e8108015d"
      },
      "source": [
        "dataset['Text'] = dataset['Text'].apply(preprocessDataset)\n",
        "text = dataset['Text']\n",
        "category = dataset['Category']\n",
        "text.head()"
      ],
      "execution_count": 14,
      "outputs": [
        {
          "output_type": "execute_result",
          "data": {
            "text/plain": [
              "0    worldcom ex bos launch defenc lawyer defend fo...\n",
              "1    german busi confid slide german busi confid fe...\n",
              "2    bbc poll indic econom gloom citizen major nati...\n",
              "3    lifestyl govern mobil choic faster well funkie...\n",
              "4    enron bos m payout eighteen former enron direc...\n",
              "Name: Text, dtype: object"
            ]
          },
          "metadata": {},
          "execution_count": 14
        }
      ]
    },
    {
      "cell_type": "code",
      "metadata": {
        "id": "tTKNUMhS1I7-"
      },
      "source": [
        "X_train, X_test, Y_train, Y_test = train_test_split(text,category, test_size = 0.2, random_state = 20,shuffle=True, stratify=category)"
      ],
      "execution_count": 15,
      "outputs": []
    },
    {
      "cell_type": "code",
      "metadata": {
        "colab": {
          "base_uri": "https://localhost:8080/"
        },
        "id": "3ouEfxMc17VB",
        "outputId": "33e9c094-7ff2-48e2-eec9-2a0fb346133b"
      },
      "source": [
        "print(len(X_train))\n",
        "print(len(X_test))"
      ],
      "execution_count": 16,
      "outputs": [
        {
          "output_type": "stream",
          "name": "stdout",
          "text": [
            "1192\n",
            "298\n"
          ]
        }
      ]
    },
    {
      "cell_type": "markdown",
      "metadata": {
        "id": "8-GEGoFv2am-"
      },
      "source": [
        "Naive Bayes"
      ]
    },
    {
      "cell_type": "code",
      "metadata": {
        "colab": {
          "base_uri": "https://localhost:8080/"
        },
        "id": "XozBLJXr18uG",
        "outputId": "5dd5d0ae-9c2d-4e1d-d3b6-da0fb2620367"
      },
      "source": [
        "nb = Pipeline([('tfidf', TfidfVectorizer()),\n",
        "               ('clf', MultinomialNB()),\n",
        "              ])\n",
        "nb.fit(X_train,Y_train)\n",
        "\n",
        "test_predict = nb.predict(X_test)\n",
        "\n",
        "train_accuracy = round(nb.score(X_train,Y_train)*100)\n",
        "test_accuracy =round(accuracy_score(test_predict, Y_test)*100)\n",
        "\n",
        "\n",
        "print(\"naive bayes accuracy Score : {}% \".format(train_accuracy ))\n",
        "print(\"naive bayes test accuracy Score  : {}% \".format(test_accuracy ))\n",
        "print()\n",
        "print(classification_report(test_predict, Y_test, target_names=dataset['Category'].unique()))"
      ],
      "execution_count": 17,
      "outputs": [
        {
          "output_type": "stream",
          "name": "stdout",
          "text": [
            "naive bayes accuracy Score : 99% \n",
            "naive bayes test accuracy Score  : 97% \n",
            "\n",
            "               precision    recall  f1-score   support\n",
            "\n",
            "     business       0.99      0.97      0.98        68\n",
            "         tech       0.96      0.98      0.97        54\n",
            "     politics       0.96      0.98      0.97        54\n",
            "        sport       1.00      0.99      0.99        70\n",
            "entertainment       0.94      0.94      0.94        52\n",
            "\n",
            "     accuracy                           0.97       298\n",
            "    macro avg       0.97      0.97      0.97       298\n",
            " weighted avg       0.97      0.97      0.97       298\n",
            "\n"
          ]
        }
      ]
    },
    {
      "cell_type": "markdown",
      "metadata": {
        "id": "a8JWKQPo3fnL"
      },
      "source": [
        "Decision Trees"
      ]
    },
    {
      "cell_type": "code",
      "metadata": {
        "colab": {
          "base_uri": "https://localhost:8080/"
        },
        "id": "Sz3jWOk92PzB",
        "outputId": "5a14f3a5-fac1-42ff-ec5e-db5408a73d63"
      },
      "source": [
        "dt = Pipeline([('tfidf', TfidfVectorizer()),\n",
        "                ('dt', DecisionTreeClassifier()),\n",
        "               ])\n",
        "\n",
        "dt.fit(X_train, Y_train)\n",
        "\n",
        "test_predict = dt.predict(X_test)\n",
        "\n",
        "train_accuracy = round(dt.score(X_train,Y_train)*100)\n",
        "test_accuracy =round(accuracy_score(test_predict, Y_test)*100)\n",
        "\n",
        "print(\"Decision Tree Train Accuracy Score : {}% \".format(train_accuracy ))\n",
        "print(\"Decision Tree Test Accuracy Score  : {}% \".format(test_accuracy ))\n",
        "print()\n",
        "print(classification_report(test_predict, Y_test, target_names=dataset['Category'].unique()))"
      ],
      "execution_count": 18,
      "outputs": [
        {
          "output_type": "stream",
          "name": "stdout",
          "text": [
            "Decision Tree Train Accuracy Score : 100% \n",
            "Decision Tree Test Accuracy Score  : 83% \n",
            "\n",
            "               precision    recall  f1-score   support\n",
            "\n",
            "     business       0.87      0.77      0.82        75\n",
            "         tech       0.73      0.80      0.76        50\n",
            "     politics       0.85      0.84      0.85        56\n",
            "        sport       0.94      0.93      0.94        70\n",
            "entertainment       0.73      0.81      0.77        47\n",
            "\n",
            "     accuracy                           0.83       298\n",
            "    macro avg       0.82      0.83      0.83       298\n",
            " weighted avg       0.84      0.83      0.83       298\n",
            "\n"
          ]
        }
      ]
    },
    {
      "cell_type": "markdown",
      "metadata": {
        "id": "WozlZeUp3i6S"
      },
      "source": [
        "Random Forest"
      ]
    },
    {
      "cell_type": "code",
      "metadata": {
        "colab": {
          "base_uri": "https://localhost:8080/"
        },
        "id": "fIMNujrX3D-7",
        "outputId": "3ed40be4-c586-4de6-c73f-9e08cd992cad"
      },
      "source": [
        "rfc = Pipeline([('tfidf', TfidfVectorizer()),\n",
        "                ('rfc', RandomForestClassifier(n_estimators=100)),\n",
        "               ])\n",
        "\n",
        "rfc.fit(X_train, Y_train)\n",
        "\n",
        "test_predict = rfc.predict(X_test)\n",
        "\n",
        "train_accuracy = round(rfc.score(X_train,Y_train)*100)\n",
        "test_accuracy =round(accuracy_score(test_predict, Y_test)*100)\n",
        "\n",
        "print(\"RandomForest Train Accuracy Score : {}% \".format(train_accuracy ))\n",
        "print(\"RandomForest Test Accuracy Score  : {}% \".format(test_accuracy ))\n",
        "print()\n",
        "print(classification_report(test_predict, Y_test, target_names=dataset['Category'].unique()))"
      ],
      "execution_count": 19,
      "outputs": [
        {
          "output_type": "stream",
          "name": "stdout",
          "text": [
            "RandomForest Train Accuracy Score : 100% \n",
            "RandomForest Test Accuracy Score  : 96% \n",
            "\n",
            "               precision    recall  f1-score   support\n",
            "\n",
            "     business       0.99      0.94      0.96        70\n",
            "         tech       0.95      0.96      0.95        54\n",
            "     politics       0.96      0.98      0.97        54\n",
            "        sport       1.00      0.97      0.99        71\n",
            "entertainment       0.90      0.96      0.93        49\n",
            "\n",
            "     accuracy                           0.96       298\n",
            "    macro avg       0.96      0.96      0.96       298\n",
            " weighted avg       0.96      0.96      0.96       298\n",
            "\n"
          ]
        }
      ]
    },
    {
      "cell_type": "markdown",
      "metadata": {
        "id": "kCfysY16DNfX"
      },
      "source": [
        "KNN\n"
      ]
    },
    {
      "cell_type": "code",
      "metadata": {
        "colab": {
          "base_uri": "https://localhost:8080/"
        },
        "id": "bnKchKjD3s2V",
        "outputId": "c541a992-c0b3-49fa-a015-0286033ee74e"
      },
      "source": [
        "\n",
        "rfc = Pipeline([('tfidf', TfidfVectorizer()),\n",
        "                ('rfc', KNeighborsClassifier()),\n",
        "               ])\n",
        "\n",
        "rfc.fit(X_train, Y_train)\n",
        "\n",
        "test_predict = rfc.predict(X_test)\n",
        "\n",
        "train_accuracy = round(rfc.score(X_train,Y_train)*100)\n",
        "test_accuracy =round(accuracy_score(test_predict, Y_test)*100)\n",
        "\n",
        "print(\"KNN Train Accuracy Score : {}% \".format(train_accuracy ))\n",
        "print(\"KNN Test Accuracy Score  : {}% \".format(test_accuracy ))\n",
        "print()\n",
        "print(classification_report(test_predict, Y_test, target_names=dataset['Category'].unique()))"
      ],
      "execution_count": 20,
      "outputs": [
        {
          "output_type": "stream",
          "name": "stdout",
          "text": [
            "KNN Train Accuracy Score : 95% \n",
            "KNN Test Accuracy Score  : 94% \n",
            "\n",
            "               precision    recall  f1-score   support\n",
            "\n",
            "     business       0.88      0.95      0.91        62\n",
            "         tech       0.93      0.96      0.94        53\n",
            "     politics       0.98      0.86      0.92        63\n",
            "        sport       0.99      1.00      0.99        68\n",
            "entertainment       0.90      0.90      0.90        52\n",
            "\n",
            "     accuracy                           0.94       298\n",
            "    macro avg       0.94      0.93      0.93       298\n",
            " weighted avg       0.94      0.94      0.94       298\n",
            "\n"
          ]
        }
      ]
    },
    {
      "cell_type": "code",
      "metadata": {
        "id": "hJ5BPQGy_Evh"
      },
      "source": [
        ""
      ],
      "execution_count": 20,
      "outputs": []
    }
  ]
}